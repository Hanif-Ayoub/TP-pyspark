{
 "cells": [
  {
   "cell_type": "code",
   "execution_count": 2,
   "id": "bfb2a797",
   "metadata": {},
   "outputs": [],
   "source": [
    "# Importation des modules Spark nécessaires\n",
    "from pyspark.context import SparkContext\n",
    "from pyspark.sql import SparkSession"
   ]
  },
  {
   "cell_type": "code",
   "execution_count": null,
   "id": "507af6ac",
   "metadata": {},
   "outputs": [],
   "source": [
    "# Création d'une session Spark avec des configurations spécifiques\n",
    "spark = SparkSession.builder \\\n",
    "    .appName(\"Examen\") \\\n",
    "    .config(\"spark.jars\", \"mysql-connector-java-8.0.28.jar\") \\\n",
    "    .config(\"spark.driver.extraClassPath\", \"mysql-connector-java-8.0.28.jar\") \\\n",
    "    .getOrCreate()\n"
   ]
  },
  {
   "cell_type": "code",
   "execution_count": 9,
   "id": "e00ac61a",
   "metadata": {},
   "outputs": [
    {
     "name": "stdout",
     "output_type": "stream",
     "text": [
      "+---------+--------+------+--------------------+----------------+\n",
      "|ID_CLIENT|     NOM|PRENOM|               EMAIL|         ADRESSE|\n",
      "+---------+--------+------+--------------------+----------------+\n",
      "|        1|   Smith|  John|john.smith@exampl...| 123 Main Street|\n",
      "|        2| Johnson|  Jane|jane.johnson@exam...|  456 Elm Street|\n",
      "|        3|Williams|   Bob|bob.williams@exam...|  789 Oak Street|\n",
      "|        4|   Brown| Susan|susan.brown@examp...| 100 Park Avenue|\n",
      "|        5|   Jones| David|david.jones@examp...|555 Maple Street|\n",
      "|        6|   Smith|  John|john.smith@exampl...| 123 Main Street|\n",
      "|        7| Johnson|  Jane|jane.johnson@exam...|  456 Elm Street|\n",
      "|        8|Williams|   Bob|bob.williams@exam...|  789 Oak Street|\n",
      "|        9|   Brown| Susan|susan.brown@examp...| 100 Park Avenue|\n",
      "|       10|   Jones| David|david.jones@examp...|555 Maple Street|\n",
      "+---------+--------+------+--------------------+----------------+\n",
      "\n"
     ]
    }
   ],
   "source": [
    "# Définition des paramètres de connexion à la base de données MySQL\n",
    "jdbcUrl = \"jdbc:mysql://localhost:3306/db_commerce\"\n",
    "username = \"root\"\n",
    "password = \"\"\n",
    "\n",
    "# Lecture des données de la table \"clients\" depuis MySQL dans un DataFrame Spark\n",
    "clients = spark.read \\\n",
    "    .format(\"jdbc\") \\\n",
    "    .option(\"url\", jdbcUrl) \\\n",
    "    .option(\"user\", username) \\\n",
    "    .option(\"password\", password) \\\n",
    "    .option(\"dbtable\", \"clients\") \\\n",
    "    .option(\"inferSchema\", \"true\") \\\n",
    "    .load()\n",
    "\n",
    "# Affichage des données\n",
    "clients.show()\n"
   ]
  },
  {
   "cell_type": "code",
   "execution_count": 12,
   "id": "cc69144b",
   "metadata": {},
   "outputs": [
    {
     "name": "stdout",
     "output_type": "stream",
     "text": [
      "+-----------+-------------+-------------+---------+\n",
      "|ID_COMMANDE|DATE_COMMANDE|MONTANT_TOTAL|ID_CLIENT|\n",
      "+-----------+-------------+-------------+---------+\n",
      "|          1|   2023-12-25|        59.99|        1|\n",
      "|          2|   2024-01-05|       125.45|        2|\n",
      "|          3|   2024-01-08|        89.75|        1|\n",
      "|          4|   2024-01-10|        250.0|        1|\n",
      "|          5|   2024-01-12|        39.95|        2|\n",
      "+-----------+-------------+-------------+---------+\n",
      "\n"
     ]
    }
   ],
   "source": [
    "# Lecture des données de la table \"commandes\" depuis MySQL dans un DataFrame Spark\n",
    "commandes = spark.read \\\n",
    "    .format(\"jdbc\") \\\n",
    "    .option(\"url\", jdbcUrl) \\\n",
    "    .option(\"user\", username) \\\n",
    "    .option(\"password\", password) \\\n",
    "    .option(\"dbtable\", \"commandes\") \\\n",
    "    .option(\"inferSchema\", \"true\") \\\n",
    "    .load()\n",
    "\n",
    "# Affichage des données\n",
    "commandes.show()\n"
   ]
  },
  {
   "cell_type": "code",
   "execution_count": 20,
   "id": "0722591c",
   "metadata": {},
   "outputs": [],
   "source": [
    "# Création de vues temporaires pour les DataFrames \"clients\" et \"commandes\"\n",
    "clients.createOrReplaceTempView(\"clients\")\n",
    "commandes.createOrReplaceTempView(\"commandes\")\n"
   ]
  },
  {
   "cell_type": "code",
   "execution_count": 29,
   "id": "1875e400",
   "metadata": {},
   "outputs": [
    {
     "name": "stdout",
     "output_type": "stream",
     "text": [
      "+---------+--------+\n",
      "|ID_CLIENT|count(1)|\n",
      "+---------+--------+\n",
      "|        1|       3|\n",
      "|        2|       2|\n",
      "+---------+--------+\n",
      "\n"
     ]
    }
   ],
   "source": [
    "# Exécution de la requête SQL pour afficher le nombre total de commandes passées par tous les clients\n",
    "resultat_nombre_commandes = spark.sql(\"\"\"\n",
    "    SELECT cl.ID_CLIENT, COUNT(*)\n",
    "    FROM clients cl\n",
    "    commandes cm where cl.ID_CLIENT==cm.ID_CLIENT\n",
    "    GROUP BY cl.ID_CLIENT\n",
    "\"\"\")\n",
    "resultat_nombre_commandes.show()\n",
    "\n"
   ]
  },
  {
   "cell_type": "code",
   "execution_count": 38,
   "id": "2c08e0a3",
   "metadata": {},
   "outputs": [
    {
     "name": "stdout",
     "output_type": "stream",
     "text": [
      "+---------+-------------+\n",
      "|ID_CLIENT|MONTANT_TOTAL|\n",
      "+---------+-------------+\n",
      "|        1|       399.74|\n",
      "+---------+-------------+\n",
      "\n"
     ]
    }
   ],
   "source": [
    "# Exécution de la requête SQL pour afficher le client qui a dépensé le plus en termes de montant total\n",
    "resultat_client_depense_max = spark.sql(\"\"\"\n",
    "    SELECT cl.ID_CLIENT, SUM(cm.MONTANT_TOTAL) AS MONTANT_TOTAL\n",
    "    FROM clients cl\n",
    "    JOIN commandes cm ON cl.ID_CLIENT = cm.ID_CLIENT\n",
    "    GROUP BY cl.ID_CLIENT\n",
    "    ORDER BY MONTANT_TOTAL DESC\n",
    "    LIMIT 1\n",
    "\"\"\")\n",
    "\n",
    "# Afficher le résultat\n",
    "resultat_client_depense_max.show()\n"
   ]
  },
  {
   "cell_type": "code",
   "execution_count": 43,
   "id": "e1be89ac",
   "metadata": {},
   "outputs": [
    {
     "name": "stdout",
     "output_type": "stream",
     "text": [
      "+---------+------------------+\n",
      "|id_client|               AVG|\n",
      "+---------+------------------+\n",
      "|        1|133.24666666666667|\n",
      "|        2|              82.7|\n",
      "+---------+------------------+\n",
      "\n"
     ]
    }
   ],
   "source": [
    "# Exécution de la requête SQL pour afficher la moyenne des montants totaux dépensés par client\n",
    "resultat_moyenne_depenses_par_client = spark.sql(\"\"\"\n",
    "    SELECT\n",
    "        clients.id_client,\n",
    "        AVG(commandes.MONTANT_TOTAL) AS AVG\n",
    "    FROM\n",
    "        clients\n",
    "        INNER JOIN commandes ON clients.ID_CLIENT = commandes.ID_CLIENT\n",
    "    GROUP BY\n",
    "        clients.ID_CLIENT\n",
    "\"\"\")\n",
    "\n",
    "# Afficher le résultat\n",
    "resultat_moyenne_depenses_par_client.show()\n"
   ]
  },
  {
   "cell_type": "code",
   "execution_count": null,
   "id": "cac5c731",
   "metadata": {},
   "outputs": [],
   "source": []
  }
 ],
 "metadata": {
  "kernelspec": {
   "display_name": "Python 3 (ipykernel)",
   "language": "python",
   "name": "python3"
  },
  "language_info": {
   "codemirror_mode": {
    "name": "ipython",
    "version": 3
   },
   "file_extension": ".py",
   "mimetype": "text/x-python",
   "name": "python",
   "nbconvert_exporter": "python",
   "pygments_lexer": "ipython3",
   "version": "3.10.9"
  }
 },
 "nbformat": 4,
 "nbformat_minor": 5
}
